{
  "cells": [
    {
      "cell_type": "markdown",
      "metadata": {
        "id": "view-in-github",
        "colab_type": "text"
      },
      "source": [
        "<a href=\"https://colab.research.google.com/github/NeerajaKasam/CSEdge-Python-Programming-Intership/blob/main/Welcome_To_Colab.ipynb\" target=\"_parent\"><img src=\"https://colab.research.google.com/assets/colab-badge.svg\" alt=\"Open In Colab\"/></a>"
      ]
    },
    {
      "cell_type": "code",
      "source": [
        "import requests\n",
        "from bs4 import BeautifulSoup\n",
        "import pandas as pd\n",
        "\n",
        "def fetch_webpage(url):\n",
        "    try:\n",
        "        response = requests.get(url)\n",
        "        response.raise_for_status()\n",
        "        return response.text\n",
        "    except requests.exceptions.HTTPError as http_err:\n",
        "        print(f\"HTTP error occurred: {http_err}\")\n",
        "    except requests.exceptions.ConnectionError as conn_err:\n",
        "        print(f\"Connection error occurred: {conn_err}\")\n",
        "    except requests.exceptions.Timeout as timeout_err:\n",
        "        print(f\"Timeout error occurred: {timeout_err}\")\n",
        "    except requests.exceptions.RequestException as req_err:\n",
        "        print(f\"An error occurred: {req_err}\")\n",
        "\n",
        "def parse_html(html_content):\n",
        "    soup = BeautifulSoup(html_content, 'html.parser')\n",
        "    books = []\n",
        "\n",
        "    # Find all book containers\n",
        "    book_containers = soup.find_all('article', class_='product_pod')\n",
        "\n",
        "    for book in book_containers:\n",
        "        title = book.h3.a['title']\n",
        "        price = book.find('p', class_='price_color').text\n",
        "        availability = book.find('p', class_='instock availability').text.strip()\n",
        "\n",
        "        books.append({\n",
        "            'Title': title,\n",
        "            'Price': price,\n",
        "            'Availability': availability\n",
        "        })\n",
        "\n",
        "    return books\n",
        "\n",
        "def save_to_csv(data, filename):\n",
        "    df = pd.DataFrame(data)\n",
        "    df.to_csv(filename, index=False)\n",
        "    print(f\"Data saved to {filename}\")\n",
        "\n",
        "def save_to_json(data, filename):\n",
        "    df = pd.DataFrame(data)\n",
        "    df.to_json(filename, orient='records', indent=4)\n",
        "    print(f\"Data saved to {filename}\")\n",
        "\n",
        "def main():\n",
        "    url = \"http://books.toscrape.com/catalogue/category/books_1/index.html\"  # Example URL\n",
        "    html_content = fetch_webpage(url)\n",
        "    if html_content:\n",
        "        data = parse_html(html_content)\n",
        "        if data:\n",
        "            save_to_csv(data, 'books.csv')\n",
        "            save_to_json(data, 'books.json')\n",
        "        else:\n",
        "            print(\"No data found.\")\n",
        "    else:\n",
        "        print(\"Failed to retrieve webpage content.\")\n",
        "\n",
        "if __name__ == \"__main__\":\n",
        "    main()\n"
      ],
      "metadata": {
        "colab": {
          "base_uri": "https://localhost:8080/"
        },
        "id": "ufKxA0ej8JIU",
        "outputId": "b08641ed-64f1-4361-eb5b-fee0ab350b8d"
      },
      "execution_count": 15,
      "outputs": [
        {
          "output_type": "stream",
          "name": "stdout",
          "text": [
            "Data saved to books.csv\n",
            "Data saved to books.json\n"
          ]
        }
      ]
    }
  ],
  "metadata": {
    "colab": {
      "name": "Welcome To Colab",
      "provenance": [],
      "include_colab_link": true
    },
    "kernelspec": {
      "display_name": "Python 3",
      "name": "python3"
    }
  },
  "nbformat": 4,
  "nbformat_minor": 0
}